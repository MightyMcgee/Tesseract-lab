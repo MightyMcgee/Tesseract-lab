{
 "cells": [
  {
   "cell_type": "code",
   "execution_count": null,
   "metadata": {},
   "outputs": [
    {
     "name": "stderr",
     "output_type": "stream",
     "text": [
      "Estimating resolution as 239\n",
      "Estimating resolution as 243\n",
      "Estimating resolution as 261\n",
      "Estimating resolution as 254\n",
      "Estimating resolution as 252\n",
      "Estimating resolution as 203\n",
      "Estimating resolution as 251\n",
      "Estimating resolution as 222\n",
      "Estimating resolution as 238\n",
      "Estimating resolution as 213\n",
      "Estimating resolution as 251\n",
      "Estimating resolution as 253\n"
     ]
    }
   ],
   "source": [
    "import os\n",
    "import cv2\n",
    "folder = \"/home/sean/Documents/vscode/cardReading/default\"\n",
    "x=1\n",
    "for images in os.listdir(folder): \n",
    "    a = cv2.imread(f\"{folder}/{images}\")[15:15+49,27:372] # opens image and crops it\n",
    "    cv2.imwrite(images, a) # saves the cropped image\n",
    "    os.system(f'tesseract ./{images} output{x}') # runs tesseract saves result in output{x}.txt\n",
    "    x += 1 #increments x for each card"
   ]
  }
 ],
 "metadata": {
  "kernelspec": {
   "display_name": ".venv",
   "language": "python",
   "name": "python3"
  },
  "language_info": {
   "codemirror_mode": {
    "name": "ipython",
    "version": 3
   },
   "file_extension": ".py",
   "mimetype": "text/x-python",
   "name": "python",
   "nbconvert_exporter": "python",
   "pygments_lexer": "ipython3",
   "version": "3.12.3"
  }
 },
 "nbformat": 4,
 "nbformat_minor": 2
}
